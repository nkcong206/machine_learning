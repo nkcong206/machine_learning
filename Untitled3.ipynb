{
 "cells": [
  {
   "cell_type": "code",
   "execution_count": 1,
   "id": "b8200488",
   "metadata": {
    "execution": {
     "iopub.execute_input": "2022-03-05T13:53:31.000788Z",
     "iopub.status.busy": "2022-03-05T13:53:31.000237Z",
     "iopub.status.idle": "2022-03-05T13:53:31.269156Z",
     "shell.execute_reply": "2022-03-05T13:53:31.268583Z"
    },
    "id": "QLYX6cp0PVky",
    "outputId": "2f08e5b5-634b-47ba-a2e5-f97cfeda7fed",
    "papermill": {
     "duration": 0.288297,
     "end_time": "2022-03-05T13:53:31.269286",
     "exception": false,
     "start_time": "2022-03-05T13:53:30.980989",
     "status": "completed"
    },
    "tags": []
   },
   "outputs": [
    {
     "name": "stdout",
     "output_type": "stream",
     "text": [
      "Python 3.7.12\r\n"
     ]
    }
   ],
   "source": [
    "!python --version"
   ]
  },
  {
   "cell_type": "code",
   "execution_count": 2,
   "id": "d36551fa",
   "metadata": {
    "collapsed": false,
    "execution": {
     "iopub.execute_input": "2022-03-05T13:53:31.289950Z",
     "iopub.status.busy": "2022-03-05T13:53:31.289268Z",
     "iopub.status.idle": "2022-03-05T13:53:31.290912Z",
     "shell.execute_reply": "2022-03-05T13:53:31.291338Z"
    },
    "jupyter": {
     "outputs_hidden": false
    },
    "papermill": {
     "duration": 0.014356,
     "end_time": "2022-03-05T13:53:31.291478",
     "exception": false,
     "start_time": "2022-03-05T13:53:31.277122",
     "status": "completed"
    },
    "pycharm": {
     "name": "#%%\n"
    },
    "tags": []
   },
   "outputs": [],
   "source": [
    "from __future__ import print_function\n",
    "import numpy as np\n",
    "import matplotlib.pyplot as plt\n",
    "# height (cm), input data, each row is a data point\n",
    "X = np.array([[147, 150, 153, 158, 163, 165, 168, 170, 173, 175, 178, 180, 183]]).T\n",
    "# weight (kg)\n",
    "y = np.array([ 49, 50, 51, 54, 58, 59, 60, 62, 63, 64, 66, 67, 68])"
   ]
  },
  {
   "cell_type": "code",
   "execution_count": 3,
   "id": "d9c31c3a",
   "metadata": {
    "collapsed": false,
    "execution": {
     "iopub.execute_input": "2022-03-05T13:53:31.308291Z",
     "iopub.status.busy": "2022-03-05T13:53:31.307639Z",
     "iopub.status.idle": "2022-03-05T13:53:31.332868Z",
     "shell.execute_reply": "2022-03-05T13:53:31.333257Z"
    },
    "jupyter": {
     "outputs_hidden": false
    },
    "papermill": {
     "duration": 0.035079,
     "end_time": "2022-03-05T13:53:31.333398",
     "exception": false,
     "start_time": "2022-03-05T13:53:31.298319",
     "status": "completed"
    },
    "pycharm": {
     "name": "#%%\n"
    },
    "tags": []
   },
   "outputs": [],
   "source": [
    "# Building Xbar\n",
    "one = np.ones((X.shape[0], 1))\n",
    "Xbar = np.concatenate((one, X), axis = 1) # each point is one row\n",
    "# Calculating weights of the fitting line\n",
    "A = np.dot(Xbar.T, Xbar)\n",
    "b = np.dot(Xbar.T, y)\n",
    "w = np.dot(np.linalg.pinv(A), b)\n",
    "# weights\n",
    "w_0, w_1 = w[0], w[1]"
   ]
  },
  {
   "cell_type": "code",
   "execution_count": 4,
   "id": "185cc64e",
   "metadata": {
    "collapsed": false,
    "execution": {
     "iopub.execute_input": "2022-03-05T13:53:31.352994Z",
     "iopub.status.busy": "2022-03-05T13:53:31.352430Z",
     "iopub.status.idle": "2022-03-05T13:53:31.355450Z",
     "shell.execute_reply": "2022-03-05T13:53:31.354818Z"
    },
    "jupyter": {
     "outputs_hidden": false
    },
    "papermill": {
     "duration": 0.015217,
     "end_time": "2022-03-05T13:53:31.355592",
     "exception": false,
     "start_time": "2022-03-05T13:53:31.340375",
     "status": "completed"
    },
    "pycharm": {
     "name": "#%%\n"
    },
    "tags": []
   },
   "outputs": [
    {
     "name": "stdout",
     "output_type": "stream",
     "text": [
      "Input 155cm, true output 52kg, predicted output 52.94kg\n",
      "Input 160cm, true output 56kg, predicted output 55.74kg\n"
     ]
    }
   ],
   "source": [
    "y1 = w_1*155 + w_0\n",
    "y2 = w_1*160 + w_0\n",
    "print('Input 155cm, true output 52kg, predicted output %.2fkg' %(y1) )\n",
    "print('Input 160cm, true output 56kg, predicted output %.2fkg' %(y2) )"
   ]
  },
  {
   "cell_type": "markdown",
   "id": "746a0a4f",
   "metadata": {
    "papermill": {
     "duration": 0.006824,
     "end_time": "2022-03-05T13:53:31.371243",
     "exception": false,
     "start_time": "2022-03-05T13:53:31.364419",
     "status": "completed"
    },
    "tags": []
   },
   "source": [
    "asdfasdfasf"
   ]
  },
  {
   "cell_type": "code",
   "execution_count": 5,
   "id": "a2df7cde",
   "metadata": {
    "collapsed": false,
    "execution": {
     "iopub.execute_input": "2022-03-05T13:53:31.390655Z",
     "iopub.status.busy": "2022-03-05T13:53:31.390173Z",
     "iopub.status.idle": "2022-03-05T13:53:32.842573Z",
     "shell.execute_reply": "2022-03-05T13:53:32.841870Z"
    },
    "jupyter": {
     "outputs_hidden": false
    },
    "papermill": {
     "duration": 1.464321,
     "end_time": "2022-03-05T13:53:32.842702",
     "exception": false,
     "start_time": "2022-03-05T13:53:31.378381",
     "status": "completed"
    },
    "pycharm": {
     "name": "#%%\n"
    },
    "tags": []
   },
   "outputs": [],
   "source": [
    "from sklearn import datasets, linear_model"
   ]
  },
  {
   "cell_type": "code",
   "execution_count": 6,
   "id": "e4de17f7",
   "metadata": {
    "collapsed": false,
    "execution": {
     "iopub.execute_input": "2022-03-05T13:53:32.885560Z",
     "iopub.status.busy": "2022-03-05T13:53:32.884740Z",
     "iopub.status.idle": "2022-03-05T13:53:32.891040Z",
     "shell.execute_reply": "2022-03-05T13:53:32.890405Z"
    },
    "jupyter": {
     "outputs_hidden": false
    },
    "papermill": {
     "duration": 0.037393,
     "end_time": "2022-03-05T13:53:32.891209",
     "exception": false,
     "start_time": "2022-03-05T13:53:32.853816",
     "status": "completed"
    },
    "pycharm": {
     "name": "#%%\n"
    },
    "tags": []
   },
   "outputs": [
    {
     "name": "stdout",
     "output_type": "stream",
     "text": [
      "scikit-learn’s solution : w_1 =  0.5592049619396674 w_0 =  -33.73541020580774\n",
      "our solution: w_1 =  0.5592049619425978 w_0 =  -33.735410206298184\n"
     ]
    }
   ],
   "source": [
    "regr = linear_model.LinearRegression()\n",
    "regr.fit(X, y) # in scikit-learn, each sample is one row\n",
    "# Compare two results\n",
    "print(\"scikit-learn’s solution : w_1 = \", regr.coef_[0], \"w_0 = \", regr.intercept_)\n",
    "print(\"our solution: w_1 = \", w[1], \"w_0 = \", w[0])"
   ]
  }
 ],
 "metadata": {
  "kernelspec": {
   "display_name": "Python 3",
   "language": "python",
   "name": "python3"
  },
  "language_info": {
   "codemirror_mode": {
    "name": "ipython",
    "version": 3
   },
   "file_extension": ".py",
   "mimetype": "text/x-python",
   "name": "python",
   "nbconvert_exporter": "python",
   "pygments_lexer": "ipython3",
   "version": "3.7.12"
  },
  "papermill": {
   "default_parameters": {},
   "duration": 12.040565,
   "end_time": "2022-03-05T13:53:33.712560",
   "environment_variables": {},
   "exception": null,
   "input_path": "__notebook__.ipynb",
   "output_path": "__notebook__.ipynb",
   "parameters": {},
   "start_time": "2022-03-05T13:53:21.671995",
   "version": "2.3.3"
  }
 },
 "nbformat": 4,
 "nbformat_minor": 5
}
